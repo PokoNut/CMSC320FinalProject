{
 "cells": [
  {
   "cell_type": "markdown",
   "metadata": {
    "tags": []
   },
   "source": [
    "# Final Project"
   ]
  },
  {
   "cell_type": "markdown",
   "metadata": {
    "tags": []
   },
   "source": [
    "# Title idea: What's in a Game? (reference to Shakespeare soliloquy: \"What's in a name?\")"
   ]
  },
  {
   "cell_type": "markdown",
   "metadata": {},
   "source": [
    "For reference here is the Data Science pipeline:\n",
    "\n",
    "Data Collection -> Data Processing -> Exploratory analysis + data visualization -> Analysis, hypothesis testing, & ML -> Insight & Policy Decision\n",
    "\n",
    "Eventually delete this box"
   ]
  },
  {
   "cell_type": "markdown",
   "metadata": {
    "tags": []
   },
   "source": [
    "## Introduction"
   ]
  },
  {
   "cell_type": "markdown",
   "metadata": {},
   "source": [
    "Steam is the largest digital video game distribution service available to Windows, Mac, and Linux users. Today, Steam has a collection of over 60,000 games available to consumers worldwide. Steam users are able to give either a positive or negative review for each of their owned games, and these reviews are able to be seen by other potential customers to help inform their purchasing decision. Logically, we can conclude that games with a higher positive review percentage are regarded as \"better\" games, in the sense that they are publicly deemed to be worthy of buying. In this tutorial we will analyze various aspects of games on Steam to try and answer the question:\n",
    "\n",
    "**What makes a game good?**"
   ]
  },
  {
   "cell_type": "markdown",
   "metadata": {
    "tags": []
   },
   "source": [
    "## Data Collection"
   ]
  },
  {
   "cell_type": "markdown",
   "metadata": {},
   "source": [
    "First we gather our Steam Web API key a locally stored text document. A key can be requested from https://steamcommunity.com/dev/apikey."
   ]
  },
  {
   "cell_type": "code",
   "execution_count": 1,
   "metadata": {},
   "outputs": [],
   "source": [
    "key = open('key.txt').read()"
   ]
  },
  {
   "cell_type": "markdown",
   "metadata": {},
   "source": [
    "Next we'll import a few key libraries that we will make use of during data collection."
   ]
  },
  {
   "cell_type": "code",
   "execution_count": 23,
   "metadata": {},
   "outputs": [],
   "source": [
    "import requests\n",
    "import pandas as pd\n",
    "import numpy as np\n",
    "import time"
   ]
  },
  {
   "cell_type": "markdown",
   "metadata": {},
   "source": [
    "Steam has a couple of APIs that can be used to find all sorts of information about a game, including pricing information, genre, number of positive reviews, and much more. But to get this information about a game, first you need to know its designated app ID, as given by Steam. Fortunately, there is a third API provided by Steam that can be used to get a list of app IDs for every single app available on the Steam web store. The term \"app\" includes games, downloadable content (DLCs), software, videos, and hardware. We are only interested in the app IDs for games, so we will set our API request parameters accordingly. Additionally, only 50,000 results are allowed per request, so we will have to make this request multiple times."
   ]
  },
  {
   "cell_type": "code",
   "execution_count": 20,
   "metadata": {},
   "outputs": [
    {
     "data": {
      "text/plain": [
       "67320"
      ]
     },
     "execution_count": 20,
     "metadata": {},
     "output_type": "execute_result"
    }
   ],
   "source": [
    "all_ids = []\n",
    "last_appid = 0\n",
    "\n",
    "while True:\n",
    "    URL = \"https://api.steampowered.com/IStoreService/GetAppList/v1/\"\n",
    "    PARAMS = {\"key\": key, \"max_results\": 50000, \"include_games\": True, \"include_dlc\": False, \"include_software\": False, \"include_videos\": False, \"include_hardware\": False, \"last_appid\": last_appid}\n",
    "    re = requests.get(url=URL, params=PARAMS).json()[\"response\"]\n",
    "    for app in re[\"apps\"]:\n",
    "        all_ids.append(app[\"appid\"])\n",
    "        \n",
    "    if \"last_appid\" not in re.keys():\n",
    "        break\n",
    "    else:\n",
    "        last_appid = re[\"last_appid\"]"
   ]
  },
  {
   "cell_type": "markdown",
   "metadata": {},
   "source": [
    "With the list of app IDs for every game on the Steam store, we can now make calls to the previously mentioned Steam APIs to get information about every game on the Steam web store. First, we will define a list of the categories of information that we will retrieve from the API response for each game. We also create a list of filters that will be sent as a parameter for the API request."
   ]
  },
  {
   "cell_type": "code",
   "execution_count": 21,
   "metadata": {},
   "outputs": [],
   "source": [
    "categories = [\n",
    "    ['name'],\n",
    "    ['type'],\n",
    "    ['steam_appid'],\n",
    "    ['developers'],\n",
    "    ['publishers'],\n",
    "    ['is_free'],\n",
    "    ['price_overview', 'initial'],\n",
    "    ['achievements', 'total'],\n",
    "    ['release_date', 'date'],\n",
    "    ['metacritic', 'score']\n",
    "]\n",
    "\n",
    "filters = ''\n",
    "for cat in categories:\n",
    "    filters += cat[0] + ','\n",
    "filters += 'basic,genres,categories'"
   ]
  },
  {
   "cell_type": "markdown",
   "metadata": {},
   "source": [
    "Next we define a function to extract this information from each response, which relies on the fact that the API responses are in the JSON format."
   ]
  },
  {
   "cell_type": "code",
   "execution_count": 22,
   "metadata": {},
   "outputs": [],
   "source": [
    "def fetch(game_info, categories):\n",
    "    info = {}\n",
    "    for category in categories:\n",
    "        cur_info = game_info\n",
    "        failed = False\n",
    "        \n",
    "        for subpart in category:\n",
    "            if not failed and subpart in cur_info.keys():\n",
    "                cur_info = cur_info[subpart]\n",
    "            else:\n",
    "                failed = True\n",
    "        \n",
    "        if not failed:\n",
    "            info[' '.join(category)] = cur_info\n",
    "        else:\n",
    "            info[' '.join(category)] = np.NaN\n",
    "    \n",
    "    if 'genres' in game_info.keys():\n",
    "        for genre in game_info['genres']:\n",
    "            info['Genre: ' + genre['description']] = True\n",
    "    if 'categories' in game_info.keys():\n",
    "        for genre in game_info['categories']:\n",
    "            info['Category: ' + genre['description']] = True\n",
    "    \n",
    "    return info"
   ]
  },
  {
   "cell_type": "markdown",
   "metadata": {},
   "source": [
    "As previously mentioned, there are two APIs that will be queried to gather all of the desired information. These APIs seem to have a limit of 200 calls for every 5 minutes, so to account for this we will design special functions for both APIs that will wait until the response code 429 (\"Too Many Requests\") passes."
   ]
  },
  {
   "cell_type": "code",
   "execution_count": 24,
   "metadata": {},
   "outputs": [],
   "source": [
    "def store_query(app_id):\n",
    "    global filters, key\n",
    "    \n",
    "    max_attempts = 11\n",
    "    attempts = 0\n",
    "    \n",
    "    URL = f\"http://store.steampowered.com/api/appdetails/?appids={app_id}\"\n",
    "    PARAMS = {'filters': filters, 'l': 'en', 'key': key}\n",
    "    \n",
    "    while attempts < max_attempts:\n",
    "        re = requests.get(url=URL, params=PARAMS)\n",
    "\n",
    "        if re.status_code != 429:\n",
    "            break\n",
    "            \n",
    "        time.sleep(30)\n",
    "        attempts += 1\n",
    "        \n",
    "    if attempts >= max_attempts:\n",
    "        print(f\"ERROR: Store query timeout on {app_id}\")\n",
    "        return None\n",
    "    else:\n",
    "        return re\n",
    "    \n",
    "def review_query(app_id):\n",
    "    max_attempts = 11\n",
    "    attempts = 0\n",
    "    \n",
    "    URL = f\"http://store.steampowered.com/appreviews/{app_id}?json=1\"\n",
    "    PARAMS = {'num_per_page': 0, 'language': 'all', 'purchase_type': 'all'}\n",
    "    \n",
    "    while attempts < max_attempts:\n",
    "        re = requests.get(url=URL, params=PARAMS)\n",
    "\n",
    "        if re.status_code != 429:\n",
    "            break\n",
    "            \n",
    "        time.sleep(30)\n",
    "        attempts += 1\n",
    "        \n",
    "    if attempts >= max_attempts:\n",
    "        print(f\"ERROR: Review query timeout on {app_id}\")\n",
    "        return None\n",
    "    else:\n",
    "        return re"
   ]
  },
  {
   "cell_type": "markdown",
   "metadata": {},
   "source": [
    "With all of that out of the way, we are able to collect the data."
   ]
  },
  {
   "cell_type": "code",
   "execution_count": 25,
   "metadata": {},
   "outputs": [],
   "source": [
    "def generate_df():\n",
    "    global all_ids\n",
    "    \n",
    "    all_info = []\n",
    "    for app_id in all_ids:\n",
    "        # make main api query\n",
    "        re = store_query(app_id)\n",
    "\n",
    "        if re is not None and re.json()[str(app_id)]['success']:\n",
    "            game_info = re.json()[str(app_id)]['data']\n",
    "            info = fetch(game_info, categories)\n",
    "\n",
    "            # make review api query\n",
    "            re = review_query(app_id)\n",
    "            if re is not None:\n",
    "                summary = re.json()\n",
    "                if 'query_summary' in summary.keys():\n",
    "                    q_summary = summary['query_summary']\n",
    "\n",
    "                    if 'total_positive' in q_summary:\n",
    "                        info['total_positive'] = q_summary['total_positive']\n",
    "                    else:\n",
    "                        info['total_positive'] = np.NaN\n",
    "\n",
    "                    if 'total_reviews' in q_summary:\n",
    "                        info['total_reviews'] = q_summary['total_reviews']\n",
    "                    else:\n",
    "                        info['total_reviews'] = np.NaN\n",
    "            \n",
    "            # add the gathered information to the list\n",
    "            all_info.append(info)\n",
    "\n",
    "    df = pd.DataFrame.from_dict(all_info)\n",
    "    return df"
   ]
  },
  {
   "cell_type": "markdown",
   "metadata": {},
   "source": [
    "For practicality reasons, we collected the data beforehand and stored it locally as a pickle file so that we could easily load it back up without having to regather the data. This is because the API request limitations mean that data collection takes about 29 hours."
   ]
  },
  {
   "cell_type": "code",
   "execution_count": 4,
   "metadata": {},
   "outputs": [
    {
     "data": {
      "text/html": [
       "<div>\n",
       "<style scoped>\n",
       "    .dataframe tbody tr th:only-of-type {\n",
       "        vertical-align: middle;\n",
       "    }\n",
       "\n",
       "    .dataframe tbody tr th {\n",
       "        vertical-align: top;\n",
       "    }\n",
       "\n",
       "    .dataframe thead th {\n",
       "        text-align: right;\n",
       "    }\n",
       "</style>\n",
       "<table border=\"1\" class=\"dataframe\">\n",
       "  <thead>\n",
       "    <tr style=\"text-align: right;\">\n",
       "      <th></th>\n",
       "      <th>name</th>\n",
       "      <th>type</th>\n",
       "      <th>steam_appid</th>\n",
       "      <th>developers</th>\n",
       "      <th>publishers</th>\n",
       "      <th>is_free</th>\n",
       "      <th>price_overview initial</th>\n",
       "      <th>achievements total</th>\n",
       "      <th>release_date date</th>\n",
       "      <th>metacritic score</th>\n",
       "      <th>...</th>\n",
       "      <th>Genre: Web Publishing</th>\n",
       "      <th>Genre: Accounting</th>\n",
       "      <th>Genre: Video Production</th>\n",
       "      <th>Genre: Game Development</th>\n",
       "      <th>Genre: Photo Editing</th>\n",
       "      <th>Genre: Documentary</th>\n",
       "      <th>Genre: Episodic</th>\n",
       "      <th>Genre: Short</th>\n",
       "      <th>Genre: Tutorial</th>\n",
       "      <th>Genre: 360 Video</th>\n",
       "    </tr>\n",
       "  </thead>\n",
       "  <tbody>\n",
       "    <tr>\n",
       "      <th>0</th>\n",
       "      <td>Counter-Strike</td>\n",
       "      <td>game</td>\n",
       "      <td>10</td>\n",
       "      <td>[Valve]</td>\n",
       "      <td>[Valve]</td>\n",
       "      <td>False</td>\n",
       "      <td>999.0</td>\n",
       "      <td>NaN</td>\n",
       "      <td>Nov 1, 2000</td>\n",
       "      <td>88.0</td>\n",
       "      <td>...</td>\n",
       "      <td>NaN</td>\n",
       "      <td>NaN</td>\n",
       "      <td>NaN</td>\n",
       "      <td>NaN</td>\n",
       "      <td>NaN</td>\n",
       "      <td>NaN</td>\n",
       "      <td>NaN</td>\n",
       "      <td>NaN</td>\n",
       "      <td>NaN</td>\n",
       "      <td>NaN</td>\n",
       "    </tr>\n",
       "    <tr>\n",
       "      <th>1</th>\n",
       "      <td>Team Fortress Classic</td>\n",
       "      <td>game</td>\n",
       "      <td>20</td>\n",
       "      <td>[Valve]</td>\n",
       "      <td>[Valve]</td>\n",
       "      <td>False</td>\n",
       "      <td>499.0</td>\n",
       "      <td>NaN</td>\n",
       "      <td>Apr 1, 1999</td>\n",
       "      <td>NaN</td>\n",
       "      <td>...</td>\n",
       "      <td>NaN</td>\n",
       "      <td>NaN</td>\n",
       "      <td>NaN</td>\n",
       "      <td>NaN</td>\n",
       "      <td>NaN</td>\n",
       "      <td>NaN</td>\n",
       "      <td>NaN</td>\n",
       "      <td>NaN</td>\n",
       "      <td>NaN</td>\n",
       "      <td>NaN</td>\n",
       "    </tr>\n",
       "    <tr>\n",
       "      <th>2</th>\n",
       "      <td>Day of Defeat</td>\n",
       "      <td>game</td>\n",
       "      <td>30</td>\n",
       "      <td>[Valve]</td>\n",
       "      <td>[Valve]</td>\n",
       "      <td>False</td>\n",
       "      <td>499.0</td>\n",
       "      <td>NaN</td>\n",
       "      <td>May 1, 2003</td>\n",
       "      <td>79.0</td>\n",
       "      <td>...</td>\n",
       "      <td>NaN</td>\n",
       "      <td>NaN</td>\n",
       "      <td>NaN</td>\n",
       "      <td>NaN</td>\n",
       "      <td>NaN</td>\n",
       "      <td>NaN</td>\n",
       "      <td>NaN</td>\n",
       "      <td>NaN</td>\n",
       "      <td>NaN</td>\n",
       "      <td>NaN</td>\n",
       "    </tr>\n",
       "    <tr>\n",
       "      <th>3</th>\n",
       "      <td>Deathmatch Classic</td>\n",
       "      <td>game</td>\n",
       "      <td>40</td>\n",
       "      <td>[Valve]</td>\n",
       "      <td>[Valve]</td>\n",
       "      <td>False</td>\n",
       "      <td>499.0</td>\n",
       "      <td>NaN</td>\n",
       "      <td>Jun 1, 2001</td>\n",
       "      <td>NaN</td>\n",
       "      <td>...</td>\n",
       "      <td>NaN</td>\n",
       "      <td>NaN</td>\n",
       "      <td>NaN</td>\n",
       "      <td>NaN</td>\n",
       "      <td>NaN</td>\n",
       "      <td>NaN</td>\n",
       "      <td>NaN</td>\n",
       "      <td>NaN</td>\n",
       "      <td>NaN</td>\n",
       "      <td>NaN</td>\n",
       "    </tr>\n",
       "    <tr>\n",
       "      <th>4</th>\n",
       "      <td>Half-Life: Opposing Force</td>\n",
       "      <td>game</td>\n",
       "      <td>50</td>\n",
       "      <td>[Gearbox Software]</td>\n",
       "      <td>[Valve]</td>\n",
       "      <td>False</td>\n",
       "      <td>499.0</td>\n",
       "      <td>NaN</td>\n",
       "      <td>Nov 1, 1999</td>\n",
       "      <td>NaN</td>\n",
       "      <td>...</td>\n",
       "      <td>NaN</td>\n",
       "      <td>NaN</td>\n",
       "      <td>NaN</td>\n",
       "      <td>NaN</td>\n",
       "      <td>NaN</td>\n",
       "      <td>NaN</td>\n",
       "      <td>NaN</td>\n",
       "      <td>NaN</td>\n",
       "      <td>NaN</td>\n",
       "      <td>NaN</td>\n",
       "    </tr>\n",
       "  </tbody>\n",
       "</table>\n",
       "<p>5 rows × 81 columns</p>\n",
       "</div>"
      ],
      "text/plain": [
       "                        name  type  steam_appid          developers  \\\n",
       "0             Counter-Strike  game           10             [Valve]   \n",
       "1      Team Fortress Classic  game           20             [Valve]   \n",
       "2              Day of Defeat  game           30             [Valve]   \n",
       "3         Deathmatch Classic  game           40             [Valve]   \n",
       "4  Half-Life: Opposing Force  game           50  [Gearbox Software]   \n",
       "\n",
       "  publishers  is_free  price_overview initial  achievements total  \\\n",
       "0    [Valve]    False                   999.0                 NaN   \n",
       "1    [Valve]    False                   499.0                 NaN   \n",
       "2    [Valve]    False                   499.0                 NaN   \n",
       "3    [Valve]    False                   499.0                 NaN   \n",
       "4    [Valve]    False                   499.0                 NaN   \n",
       "\n",
       "  release_date date  metacritic score  ... Genre: Web Publishing  \\\n",
       "0       Nov 1, 2000              88.0  ...                   NaN   \n",
       "1       Apr 1, 1999               NaN  ...                   NaN   \n",
       "2       May 1, 2003              79.0  ...                   NaN   \n",
       "3       Jun 1, 2001               NaN  ...                   NaN   \n",
       "4       Nov 1, 1999               NaN  ...                   NaN   \n",
       "\n",
       "  Genre: Accounting Genre: Video Production Genre: Game Development  \\\n",
       "0               NaN                     NaN                     NaN   \n",
       "1               NaN                     NaN                     NaN   \n",
       "2               NaN                     NaN                     NaN   \n",
       "3               NaN                     NaN                     NaN   \n",
       "4               NaN                     NaN                     NaN   \n",
       "\n",
       "  Genre: Photo Editing Genre: Documentary  Genre: Episodic  Genre: Short  \\\n",
       "0                  NaN                NaN              NaN           NaN   \n",
       "1                  NaN                NaN              NaN           NaN   \n",
       "2                  NaN                NaN              NaN           NaN   \n",
       "3                  NaN                NaN              NaN           NaN   \n",
       "4                  NaN                NaN              NaN           NaN   \n",
       "\n",
       "  Genre: Tutorial Genre: 360 Video  \n",
       "0             NaN              NaN  \n",
       "1             NaN              NaN  \n",
       "2             NaN              NaN  \n",
       "3             NaN              NaN  \n",
       "4             NaN              NaN  \n",
       "\n",
       "[5 rows x 81 columns]"
      ]
     },
     "execution_count": 4,
     "metadata": {},
     "output_type": "execute_result"
    }
   ],
   "source": [
    "df = pd.read_pickle(\"games_df.pkl\")\n",
    "df.head()"
   ]
  },
  {
   "cell_type": "markdown",
   "metadata": {},
   "source": [
    "## Data Processing"
   ]
  },
  {
   "cell_type": "markdown",
   "metadata": {},
   "source": [
    "The dataframe now as all the information we want, but not all of it is in the desired format. First we replace NaN values from the genre or category columns with false. Values in the genres column are set to NaN if the app was not tagged as part of that genre/category, so this is a logical replacement value."
   ]
  },
  {
   "cell_type": "code",
   "execution_count": 15,
   "metadata": {},
   "outputs": [],
   "source": [
    "for col_name in df:\n",
    "    if col_name.startswith('Genre: ') or col_name.startswith('Category: '):\n",
    "        df[col_name].fillna(False, inplace=True)"
   ]
  },
  {
   "cell_type": "markdown",
   "metadata": {},
   "source": [
    "Next we change the release dates to all be in the same format, the pandas datetime format. The parameter `errors='coerce'` means that if pandas cannot figure out what the date format means, then it will set the value to pd.NaT. This is reasonable because there are many apps and not all will use a recognizable format, but we do not want those few exceptions to bring the process to a complete stop. The parameter `infer_datetime_format=True` is used because there is no consistent date format for all Steam pages. The main reason the release date would not be in a format recognized by pandas would be if the date is given in a language other than English."
   ]
  },
  {
   "cell_type": "code",
   "execution_count": 8,
   "metadata": {},
   "outputs": [],
   "source": [
    "df['release_date date'] = df['release_date date'].apply(lambda x: pd.to_datetime(x, errors='coerce', infer_datetime_format=True))"
   ]
  },
  {
   "cell_type": "markdown",
   "metadata": {},
   "source": [
    "Now we define a function to determine positive review percentage for a row. Gives NaN if missing either the total review count or total count of positive reviews."
   ]
  },
  {
   "cell_type": "code",
   "execution_count": 9,
   "metadata": {},
   "outputs": [],
   "source": [
    "def positive_perc(row):\n",
    "    if not np.isnan(row['total_reviews']) and row['total_reviews'] != 0 and not np.isnan(row['total_positive']):\n",
    "        return row['total_positive'] / row['total_reviews']\n",
    "    else:\n",
    "        return np.NaN"
   ]
  },
  {
   "cell_type": "markdown",
   "metadata": {},
   "source": [
    "With the function defined, we can now add a positive review percentage column to the dataframe."
   ]
  },
  {
   "cell_type": "code",
   "execution_count": 10,
   "metadata": {},
   "outputs": [],
   "source": [
    "df['positive_percentage'] = df.apply(positive_perc, axis=1)"
   ]
  },
  {
   "cell_type": "markdown",
   "metadata": {},
   "source": [
    "We can see that for free games, the price column tends to be NaN. It is reasonable to say that if a game is free, then its price should be 0. We will now define a function to do this for us."
   ]
  },
  {
   "cell_type": "code",
   "execution_count": 11,
   "metadata": {},
   "outputs": [],
   "source": [
    "def get_price(row):\n",
    "    if np.isnan(row['price_overview initial']) and row['is_free']:\n",
    "        return 0\n",
    "    else:\n",
    "        return row['price_overview initial']"
   ]
  },
  {
   "cell_type": "markdown",
   "metadata": {},
   "source": [
    "We apply this function to the price_overview initial column, and rename the column to just price for the sake of brevity."
   ]
  },
  {
   "cell_type": "code",
   "execution_count": 12,
   "metadata": {},
   "outputs": [],
   "source": [
    "df['price_overview initial'] = df.apply(get_price, axis=1)\n",
    "df.rename({'price_overview initial': 'price'}, axis='columns', inplace=True)"
   ]
  },
  {
   "cell_type": "markdown",
   "metadata": {},
   "source": [
    "Seems reasonable to replace NaN achievements total with 0"
   ]
  },
  {
   "cell_type": "code",
   "execution_count": 13,
   "metadata": {},
   "outputs": [],
   "source": [
    "df['achievements total'].fillna(0, inplace=True)"
   ]
  },
  {
   "cell_type": "markdown",
   "metadata": {},
   "source": [
    "Now let's get an idea of what the tidied up dataframe looks like"
   ]
  },
  {
   "cell_type": "code",
   "execution_count": 14,
   "metadata": {},
   "outputs": [
    {
     "data": {
      "text/html": [
       "<div>\n",
       "<style scoped>\n",
       "    .dataframe tbody tr th:only-of-type {\n",
       "        vertical-align: middle;\n",
       "    }\n",
       "\n",
       "    .dataframe tbody tr th {\n",
       "        vertical-align: top;\n",
       "    }\n",
       "\n",
       "    .dataframe thead th {\n",
       "        text-align: right;\n",
       "    }\n",
       "</style>\n",
       "<table border=\"1\" class=\"dataframe\">\n",
       "  <thead>\n",
       "    <tr style=\"text-align: right;\">\n",
       "      <th></th>\n",
       "      <th>name</th>\n",
       "      <th>type</th>\n",
       "      <th>steam_appid</th>\n",
       "      <th>developers</th>\n",
       "      <th>publishers</th>\n",
       "      <th>is_free</th>\n",
       "      <th>price</th>\n",
       "      <th>achievements total</th>\n",
       "      <th>release_date date</th>\n",
       "      <th>metacritic score</th>\n",
       "      <th>...</th>\n",
       "      <th>Genre: Accounting</th>\n",
       "      <th>Genre: Video Production</th>\n",
       "      <th>Genre: Game Development</th>\n",
       "      <th>Genre: Photo Editing</th>\n",
       "      <th>Genre: Documentary</th>\n",
       "      <th>Genre: Episodic</th>\n",
       "      <th>Genre: Short</th>\n",
       "      <th>Genre: Tutorial</th>\n",
       "      <th>Genre: 360 Video</th>\n",
       "      <th>positive_percentage</th>\n",
       "    </tr>\n",
       "  </thead>\n",
       "  <tbody>\n",
       "    <tr>\n",
       "      <th>0</th>\n",
       "      <td>Counter-Strike</td>\n",
       "      <td>game</td>\n",
       "      <td>10</td>\n",
       "      <td>[Valve]</td>\n",
       "      <td>[Valve]</td>\n",
       "      <td>False</td>\n",
       "      <td>999.0</td>\n",
       "      <td>0.0</td>\n",
       "      <td>2000-11-01</td>\n",
       "      <td>88.0</td>\n",
       "      <td>...</td>\n",
       "      <td>False</td>\n",
       "      <td>False</td>\n",
       "      <td>False</td>\n",
       "      <td>False</td>\n",
       "      <td>False</td>\n",
       "      <td>False</td>\n",
       "      <td>False</td>\n",
       "      <td>False</td>\n",
       "      <td>False</td>\n",
       "      <td>0.974959</td>\n",
       "    </tr>\n",
       "    <tr>\n",
       "      <th>1</th>\n",
       "      <td>Team Fortress Classic</td>\n",
       "      <td>game</td>\n",
       "      <td>20</td>\n",
       "      <td>[Valve]</td>\n",
       "      <td>[Valve]</td>\n",
       "      <td>False</td>\n",
       "      <td>499.0</td>\n",
       "      <td>0.0</td>\n",
       "      <td>1999-04-01</td>\n",
       "      <td>NaN</td>\n",
       "      <td>...</td>\n",
       "      <td>False</td>\n",
       "      <td>False</td>\n",
       "      <td>False</td>\n",
       "      <td>False</td>\n",
       "      <td>False</td>\n",
       "      <td>False</td>\n",
       "      <td>False</td>\n",
       "      <td>False</td>\n",
       "      <td>False</td>\n",
       "      <td>0.858584</td>\n",
       "    </tr>\n",
       "    <tr>\n",
       "      <th>2</th>\n",
       "      <td>Day of Defeat</td>\n",
       "      <td>game</td>\n",
       "      <td>30</td>\n",
       "      <td>[Valve]</td>\n",
       "      <td>[Valve]</td>\n",
       "      <td>False</td>\n",
       "      <td>499.0</td>\n",
       "      <td>0.0</td>\n",
       "      <td>2003-05-01</td>\n",
       "      <td>79.0</td>\n",
       "      <td>...</td>\n",
       "      <td>False</td>\n",
       "      <td>False</td>\n",
       "      <td>False</td>\n",
       "      <td>False</td>\n",
       "      <td>False</td>\n",
       "      <td>False</td>\n",
       "      <td>False</td>\n",
       "      <td>False</td>\n",
       "      <td>False</td>\n",
       "      <td>0.900992</td>\n",
       "    </tr>\n",
       "    <tr>\n",
       "      <th>3</th>\n",
       "      <td>Deathmatch Classic</td>\n",
       "      <td>game</td>\n",
       "      <td>40</td>\n",
       "      <td>[Valve]</td>\n",
       "      <td>[Valve]</td>\n",
       "      <td>False</td>\n",
       "      <td>499.0</td>\n",
       "      <td>0.0</td>\n",
       "      <td>2001-06-01</td>\n",
       "      <td>NaN</td>\n",
       "      <td>...</td>\n",
       "      <td>False</td>\n",
       "      <td>False</td>\n",
       "      <td>False</td>\n",
       "      <td>False</td>\n",
       "      <td>False</td>\n",
       "      <td>False</td>\n",
       "      <td>False</td>\n",
       "      <td>False</td>\n",
       "      <td>False</td>\n",
       "      <td>0.820000</td>\n",
       "    </tr>\n",
       "    <tr>\n",
       "      <th>4</th>\n",
       "      <td>Half-Life: Opposing Force</td>\n",
       "      <td>game</td>\n",
       "      <td>50</td>\n",
       "      <td>[Gearbox Software]</td>\n",
       "      <td>[Valve]</td>\n",
       "      <td>False</td>\n",
       "      <td>499.0</td>\n",
       "      <td>0.0</td>\n",
       "      <td>1999-11-01</td>\n",
       "      <td>NaN</td>\n",
       "      <td>...</td>\n",
       "      <td>False</td>\n",
       "      <td>False</td>\n",
       "      <td>False</td>\n",
       "      <td>False</td>\n",
       "      <td>False</td>\n",
       "      <td>False</td>\n",
       "      <td>False</td>\n",
       "      <td>False</td>\n",
       "      <td>False</td>\n",
       "      <td>0.952906</td>\n",
       "    </tr>\n",
       "  </tbody>\n",
       "</table>\n",
       "<p>5 rows × 82 columns</p>\n",
       "</div>"
      ],
      "text/plain": [
       "                        name  type  steam_appid          developers  \\\n",
       "0             Counter-Strike  game           10             [Valve]   \n",
       "1      Team Fortress Classic  game           20             [Valve]   \n",
       "2              Day of Defeat  game           30             [Valve]   \n",
       "3         Deathmatch Classic  game           40             [Valve]   \n",
       "4  Half-Life: Opposing Force  game           50  [Gearbox Software]   \n",
       "\n",
       "  publishers  is_free  price  achievements total release_date date  \\\n",
       "0    [Valve]    False  999.0                 0.0        2000-11-01   \n",
       "1    [Valve]    False  499.0                 0.0        1999-04-01   \n",
       "2    [Valve]    False  499.0                 0.0        2003-05-01   \n",
       "3    [Valve]    False  499.0                 0.0        2001-06-01   \n",
       "4    [Valve]    False  499.0                 0.0        1999-11-01   \n",
       "\n",
       "   metacritic score  ...  Genre: Accounting Genre: Video Production  \\\n",
       "0              88.0  ...              False                   False   \n",
       "1               NaN  ...              False                   False   \n",
       "2              79.0  ...              False                   False   \n",
       "3               NaN  ...              False                   False   \n",
       "4               NaN  ...              False                   False   \n",
       "\n",
       "  Genre: Game Development Genre: Photo Editing Genre: Documentary  \\\n",
       "0                   False                False              False   \n",
       "1                   False                False              False   \n",
       "2                   False                False              False   \n",
       "3                   False                False              False   \n",
       "4                   False                False              False   \n",
       "\n",
       "  Genre: Episodic  Genre: Short  Genre: Tutorial Genre: 360 Video  \\\n",
       "0           False         False            False            False   \n",
       "1           False         False            False            False   \n",
       "2           False         False            False            False   \n",
       "3           False         False            False            False   \n",
       "4           False         False            False            False   \n",
       "\n",
       "  positive_percentage  \n",
       "0            0.974959  \n",
       "1            0.858584  \n",
       "2            0.900992  \n",
       "3            0.820000  \n",
       "4            0.952906  \n",
       "\n",
       "[5 rows x 82 columns]"
      ]
     },
     "execution_count": 14,
     "metadata": {},
     "output_type": "execute_result"
    }
   ],
   "source": [
    "df.head()"
   ]
  },
  {
   "cell_type": "markdown",
   "metadata": {},
   "source": [
    "## Exploratory Data Analysis"
   ]
  },
  {
   "cell_type": "code",
   "execution_count": null,
   "metadata": {},
   "outputs": [],
   "source": []
  }
 ],
 "metadata": {
  "kernelspec": {
   "display_name": "Python 3 (ipykernel)",
   "language": "python",
   "name": "python3"
  },
  "language_info": {
   "codemirror_mode": {
    "name": "ipython",
    "version": 3
   },
   "file_extension": ".py",
   "mimetype": "text/x-python",
   "name": "python",
   "nbconvert_exporter": "python",
   "pygments_lexer": "ipython3",
   "version": "3.10.4"
  }
 },
 "nbformat": 4,
 "nbformat_minor": 4
}
