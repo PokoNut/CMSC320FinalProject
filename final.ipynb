{
 "cells": [
  {
   "cell_type": "markdown",
   "metadata": {},
   "source": [
    "# Final Project"
   ]
  },
  {
   "cell_type": "markdown",
   "metadata": {},
   "source": [
    "Data Science pipeline:\n",
    "\n",
    "Data Collection -> Data Processing -> Exploratory analysis + data visualization -> Analysis, hypothesis testing, & ML -> Insight & Policy Decision"
   ]
  },
  {
   "cell_type": "markdown",
   "metadata": {},
   "source": [
    "## Part 1: Data Collection"
   ]
  },
  {
   "cell_type": "markdown",
   "metadata": {},
   "source": [
    "First we gather our Steam Web API key a locally stored text document. A key can be requested from https://steamcommunity.com/dev/apikey."
   ]
  },
  {
   "cell_type": "code",
   "execution_count": 1,
   "metadata": {},
   "outputs": [],
   "source": [
    "key = open('key.txt').read()"
   ]
  },
  {
   "cell_type": "markdown",
   "metadata": {},
   "source": [
    "Next we'll import a few key libraries that we will make use of during data collection."
   ]
  },
  {
   "cell_type": "code",
   "execution_count": 2,
   "metadata": {},
   "outputs": [],
   "source": [
    "import requests\n",
    "import pandas as pd\n",
    "import numpy as np"
   ]
  },
  {
   "cell_type": "markdown",
   "metadata": {},
   "source": [
    "Now we can begin collecting data by first obtaining a list of every app on Steam."
   ]
  },
  {
   "cell_type": "code",
   "execution_count": 3,
   "metadata": {},
   "outputs": [],
   "source": [
    "URL = \"http://api.steampowered.com/ISteamApps/GetAppList/v2\"\n",
    "PARAMS = {'key': key}\n",
    "re = requests.get(url = URL, params = PARAMS)\n",
    "apps = re.json()['applist']['apps']"
   ]
  },
  {
   "cell_type": "markdown",
   "metadata": {},
   "source": [
    "-------- Eventually remove this next part --------"
   ]
  },
  {
   "cell_type": "code",
   "execution_count": 4,
   "metadata": {},
   "outputs": [],
   "source": [
    "apps = apps[0:100]"
   ]
  },
  {
   "cell_type": "markdown",
   "metadata": {},
   "source": [
    "Now that we have a list of all the apps, we can gather further information on them.\n",
    "\n",
    "First, we define a list of all the categories of information that we want to know about each app."
   ]
  },
  {
   "cell_type": "code",
   "execution_count": 5,
   "metadata": {},
   "outputs": [],
   "source": [
    "categories = [\n",
    "    ['name'],\n",
    "    ['type'],\n",
    "    ['steam_appid'],\n",
    "    ['developers'],\n",
    "    ['publishers'],\n",
    "    ['is_free'],\n",
    "    ['price_overview', 'initial'],\n",
    "    ['achievements', 'total'],\n",
    "    ['release_date', 'date'],\n",
    "    ['metacritic', 'score']\n",
    "]"
   ]
  },
  {
   "cell_type": "markdown",
   "metadata": {},
   "source": [
    "We also need to create a filter parameter for our API requests so that we only retrieve the categories we defined above."
   ]
  },
  {
   "cell_type": "code",
   "execution_count": 6,
   "metadata": {},
   "outputs": [],
   "source": [
    "filters = ''\n",
    "for cat in categories:\n",
    "    filters += cat[0] + ','\n",
    "filters += 'basic,genres'"
   ]
  },
  {
   "cell_type": "markdown",
   "metadata": {},
   "source": [
    "Next, we create a function that will extract the desired information from each response we get from the requests."
   ]
  },
  {
   "cell_type": "code",
   "execution_count": 7,
   "metadata": {},
   "outputs": [],
   "source": [
    "def fetch(game_info, categories):\n",
    "    info = {}\n",
    "    for category in categories:\n",
    "        cur_info = game_info\n",
    "        failed = False\n",
    "        \n",
    "        for subpart in category:\n",
    "            if not failed and subpart in cur_info.keys():\n",
    "                cur_info = cur_info[subpart]\n",
    "            else:\n",
    "                failed = True\n",
    "        \n",
    "        if not failed:\n",
    "            info[' '.join(category)] = cur_info\n",
    "        else:\n",
    "            info[' '.join(category)] = np.NaN\n",
    "    \n",
    "    # Genre is handled differently from the rest because a game can have multiple genres.\n",
    "    # They can also have multiple publishers/developers but I don't think that we should\n",
    "    # treat that the same way, because the numbers of genres should be much less than the\n",
    "    # numbers of developers.\n",
    "    # Not sure how the \"dummy variable trap\" works here either. I think each row should\n",
    "    # have a column for each genre, but it doesn't make sense for the 0 vector to default\n",
    "    # to some genre when games can have more than one. For example, if the 0 vector defaulted\n",
    "    # to FPS, then for a game that is an FPS and RPG, what columns should be marked 1? If\n",
    "    # it is just the RPG column, then how would you tell which games are just RPGs and which\n",
    "    # ones are FPS RPG hybrids.\n",
    "    # Also could use 'categories' instead of 'genres', but 'categories' has a bunch of extra\n",
    "    # stuff like if the game has steam achievements etc.\n",
    "    # Could also do both, but that would be a lot of columns (probably will be a bunch with\n",
    "    # just genres)\n",
    "    if 'genres' in game_info.keys():\n",
    "        for genre in game_info['genres']:\n",
    "            info['Genre: ' + genre['description']] = True\n",
    "    \n",
    "    \n",
    "    return info"
   ]
  },
  {
   "cell_type": "markdown",
   "metadata": {},
   "source": [
    "Finally we can collect data about each game.\n",
    "\n",
    "\n",
    "\n",
    "For the finished project we'll probably have to do this process more than once, storing the resulting dataframe for smaller subsets of the full list. Then we'll combine them and store that dataframe, and load it in here. But we still need to mention the code we used to collect the data for the sake of replicability."
   ]
  },
  {
   "cell_type": "code",
   "execution_count": 8,
   "metadata": {},
   "outputs": [],
   "source": [
    "all_info = []\n",
    "\n",
    "for app in apps:\n",
    "    app_id = app['appid']\n",
    "    # make main api query\n",
    "    URL = \"http://store.steampowered.com/api/appdetails\"\n",
    "    PARAMS = {'appids': app_id, 'filters': filters}\n",
    "    re = requests.get(url = URL, params = PARAMS)\n",
    "    if re.json()[str(app_id)]['success']:\n",
    "        game_info = re.json()[str(app_id)]['data']\n",
    "        info = fetch(game_info, categories)\n",
    "        # make review api query\n",
    "        URL = f\"http://store.steampowered.com/appreviews/{app_id}?json=1\"\n",
    "        PARAMS = {'num_per_page': 0, 'language': 'all', 'purchase_type': 'all'}\n",
    "        re = requests.get(url = URL, params = PARAMS)\n",
    "        summary = re.json()\n",
    "        if 'query_summary' in summary.keys():\n",
    "            q_summary = summary['query_summary']\n",
    "\n",
    "            if 'total_positive' in q_summary:\n",
    "                info['total_positive'] = q_summary['total_positive']\n",
    "            else:\n",
    "                info['total_positive'] = np.NaN\n",
    "\n",
    "            if 'total_reviews' in q_summary:\n",
    "                info['total_reviews'] = q_summary['total_reviews']\n",
    "            else:\n",
    "                info['total_reviews'] = np.NaN\n",
    "\n",
    "\n",
    "        all_info.append(info)"
   ]
  },
  {
   "cell_type": "markdown",
   "metadata": {},
   "source": [
    "With the data collected, we can now turn it into a pandas dataframe.\n",
    "\n",
    "I'm slightly concerned about how long it took it to do just 100 (probably like a minute). Might have to use a library like grequests to make multiple requests at once. I think that it is also possible to request information for multiple apps at once if we modify the first main api PARAMS to have more than one app_id for appids. But I'm not sure if the review API has something similar."
   ]
  },
  {
   "cell_type": "code",
   "execution_count": 9,
   "metadata": {},
   "outputs": [
    {
     "data": {
      "text/html": [
       "<div>\n",
       "<style scoped>\n",
       "    .dataframe tbody tr th:only-of-type {\n",
       "        vertical-align: middle;\n",
       "    }\n",
       "\n",
       "    .dataframe tbody tr th {\n",
       "        vertical-align: top;\n",
       "    }\n",
       "\n",
       "    .dataframe thead th {\n",
       "        text-align: right;\n",
       "    }\n",
       "</style>\n",
       "<table border=\"1\" class=\"dataframe\">\n",
       "  <thead>\n",
       "    <tr style=\"text-align: right;\">\n",
       "      <th></th>\n",
       "      <th>name</th>\n",
       "      <th>type</th>\n",
       "      <th>steam_appid</th>\n",
       "      <th>developers</th>\n",
       "      <th>publishers</th>\n",
       "      <th>is_free</th>\n",
       "      <th>price_overview initial</th>\n",
       "      <th>achievements total</th>\n",
       "      <th>release_date date</th>\n",
       "      <th>metacritic score</th>\n",
       "      <th>...</th>\n",
       "      <th>Genre: Adventure</th>\n",
       "      <th>Genre: Free to Play</th>\n",
       "      <th>Genre: RPG</th>\n",
       "      <th>Genre: Massively Multiplayer</th>\n",
       "      <th>Genre: Design &amp; Illustration</th>\n",
       "      <th>Genre: Web Publishing</th>\n",
       "      <th>Genre: Racing</th>\n",
       "      <th>Genre: Audio Production</th>\n",
       "      <th>Genre: Education</th>\n",
       "      <th>Genre: Utilities</th>\n",
       "    </tr>\n",
       "  </thead>\n",
       "  <tbody>\n",
       "    <tr>\n",
       "      <th>0</th>\n",
       "      <td>Trine 4: Melody of Mystery Soundtrack</td>\n",
       "      <td>music</td>\n",
       "      <td>1503550</td>\n",
       "      <td>[Frozenbyte]</td>\n",
       "      <td>[]</td>\n",
       "      <td>False</td>\n",
       "      <td>699.0</td>\n",
       "      <td>NaN</td>\n",
       "      <td>Dec 23, 2020</td>\n",
       "      <td>NaN</td>\n",
       "      <td>...</td>\n",
       "      <td>NaN</td>\n",
       "      <td>NaN</td>\n",
       "      <td>NaN</td>\n",
       "      <td>NaN</td>\n",
       "      <td>NaN</td>\n",
       "      <td>NaN</td>\n",
       "      <td>NaN</td>\n",
       "      <td>NaN</td>\n",
       "      <td>NaN</td>\n",
       "      <td>NaN</td>\n",
       "    </tr>\n",
       "    <tr>\n",
       "      <th>1</th>\n",
       "      <td>Rift World Demo</td>\n",
       "      <td>demo</td>\n",
       "      <td>1503570</td>\n",
       "      <td>[Cerulean Interactive]</td>\n",
       "      <td>[Cerulean Interactive]</td>\n",
       "      <td>True</td>\n",
       "      <td>NaN</td>\n",
       "      <td>NaN</td>\n",
       "      <td>Apr 13, 2021</td>\n",
       "      <td>NaN</td>\n",
       "      <td>...</td>\n",
       "      <td>NaN</td>\n",
       "      <td>NaN</td>\n",
       "      <td>NaN</td>\n",
       "      <td>NaN</td>\n",
       "      <td>NaN</td>\n",
       "      <td>NaN</td>\n",
       "      <td>NaN</td>\n",
       "      <td>NaN</td>\n",
       "      <td>NaN</td>\n",
       "      <td>NaN</td>\n",
       "    </tr>\n",
       "    <tr>\n",
       "      <th>2</th>\n",
       "      <td>Epic City Builder 4</td>\n",
       "      <td>game</td>\n",
       "      <td>1503580</td>\n",
       "      <td>[Andrew Rowe]</td>\n",
       "      <td>[Andrew Rowe]</td>\n",
       "      <td>False</td>\n",
       "      <td>1999.0</td>\n",
       "      <td>19.0</td>\n",
       "      <td>Oct 14, 2021</td>\n",
       "      <td>NaN</td>\n",
       "      <td>...</td>\n",
       "      <td>NaN</td>\n",
       "      <td>NaN</td>\n",
       "      <td>NaN</td>\n",
       "      <td>NaN</td>\n",
       "      <td>NaN</td>\n",
       "      <td>NaN</td>\n",
       "      <td>NaN</td>\n",
       "      <td>NaN</td>\n",
       "      <td>NaN</td>\n",
       "      <td>NaN</td>\n",
       "    </tr>\n",
       "    <tr>\n",
       "      <th>3</th>\n",
       "      <td>Range is HOT!</td>\n",
       "      <td>game</td>\n",
       "      <td>1503590</td>\n",
       "      <td>[Winter Bear Studio]</td>\n",
       "      <td>[Winter Bear Studio]</td>\n",
       "      <td>False</td>\n",
       "      <td>2999.0</td>\n",
       "      <td>NaN</td>\n",
       "      <td>Mar 9, 2021</td>\n",
       "      <td>NaN</td>\n",
       "      <td>...</td>\n",
       "      <td>NaN</td>\n",
       "      <td>NaN</td>\n",
       "      <td>NaN</td>\n",
       "      <td>NaN</td>\n",
       "      <td>NaN</td>\n",
       "      <td>NaN</td>\n",
       "      <td>NaN</td>\n",
       "      <td>NaN</td>\n",
       "      <td>NaN</td>\n",
       "      <td>NaN</td>\n",
       "    </tr>\n",
       "    <tr>\n",
       "      <th>4</th>\n",
       "      <td>Arm of Revenge Re-Edition</td>\n",
       "      <td>game</td>\n",
       "      <td>1503630</td>\n",
       "      <td>[MagicWing]</td>\n",
       "      <td>[MagicWing]</td>\n",
       "      <td>False</td>\n",
       "      <td>499.0</td>\n",
       "      <td>32.0</td>\n",
       "      <td>Jan 14, 2021</td>\n",
       "      <td>NaN</td>\n",
       "      <td>...</td>\n",
       "      <td>True</td>\n",
       "      <td>NaN</td>\n",
       "      <td>NaN</td>\n",
       "      <td>NaN</td>\n",
       "      <td>NaN</td>\n",
       "      <td>NaN</td>\n",
       "      <td>NaN</td>\n",
       "      <td>NaN</td>\n",
       "      <td>NaN</td>\n",
       "      <td>NaN</td>\n",
       "    </tr>\n",
       "  </tbody>\n",
       "</table>\n",
       "<p>5 rows × 29 columns</p>\n",
       "</div>"
      ],
      "text/plain": [
       "                                    name   type  steam_appid  \\\n",
       "0  Trine 4: Melody of Mystery Soundtrack  music      1503550   \n",
       "1                        Rift World Demo   demo      1503570   \n",
       "2                    Epic City Builder 4   game      1503580   \n",
       "3                          Range is HOT!   game      1503590   \n",
       "4              Arm of Revenge Re-Edition   game      1503630   \n",
       "\n",
       "               developers              publishers  is_free  \\\n",
       "0            [Frozenbyte]                      []    False   \n",
       "1  [Cerulean Interactive]  [Cerulean Interactive]     True   \n",
       "2           [Andrew Rowe]           [Andrew Rowe]    False   \n",
       "3    [Winter Bear Studio]    [Winter Bear Studio]    False   \n",
       "4             [MagicWing]             [MagicWing]    False   \n",
       "\n",
       "   price_overview initial  achievements total release_date date  \\\n",
       "0                   699.0                 NaN      Dec 23, 2020   \n",
       "1                     NaN                 NaN      Apr 13, 2021   \n",
       "2                  1999.0                19.0      Oct 14, 2021   \n",
       "3                  2999.0                 NaN       Mar 9, 2021   \n",
       "4                   499.0                32.0      Jan 14, 2021   \n",
       "\n",
       "   metacritic score  ...  Genre: Adventure  Genre: Free to Play Genre: RPG  \\\n",
       "0               NaN  ...               NaN                  NaN        NaN   \n",
       "1               NaN  ...               NaN                  NaN        NaN   \n",
       "2               NaN  ...               NaN                  NaN        NaN   \n",
       "3               NaN  ...               NaN                  NaN        NaN   \n",
       "4               NaN  ...              True                  NaN        NaN   \n",
       "\n",
       "  Genre: Massively Multiplayer Genre: Design & Illustration  \\\n",
       "0                          NaN                          NaN   \n",
       "1                          NaN                          NaN   \n",
       "2                          NaN                          NaN   \n",
       "3                          NaN                          NaN   \n",
       "4                          NaN                          NaN   \n",
       "\n",
       "  Genre: Web Publishing Genre: Racing Genre: Audio Production  \\\n",
       "0                   NaN           NaN                     NaN   \n",
       "1                   NaN           NaN                     NaN   \n",
       "2                   NaN           NaN                     NaN   \n",
       "3                   NaN           NaN                     NaN   \n",
       "4                   NaN           NaN                     NaN   \n",
       "\n",
       "  Genre: Education Genre: Utilities  \n",
       "0              NaN              NaN  \n",
       "1              NaN              NaN  \n",
       "2              NaN              NaN  \n",
       "3              NaN              NaN  \n",
       "4              NaN              NaN  \n",
       "\n",
       "[5 rows x 29 columns]"
      ]
     },
     "execution_count": 9,
     "metadata": {},
     "output_type": "execute_result"
    }
   ],
   "source": [
    "df = pd.DataFrame.from_dict(all_info)\n",
    "df.head()"
   ]
  },
  {
   "cell_type": "markdown",
   "metadata": {},
   "source": [
    "## Part 2: Data Processing"
   ]
  },
  {
   "cell_type": "markdown",
   "metadata": {},
   "source": [
    "tbh I don't remember if data tidying is data processing, but if not we just move this stuff up"
   ]
  },
  {
   "cell_type": "markdown",
   "metadata": {},
   "source": [
    "The dataframe now as all the information we want, but not all of it is in the desired format. First we replace NaN values from the genre columns with false. Values in the genres column are set to NaN if the app was not tagged as part of that genre, so this is a logical replacement value."
   ]
  },
  {
   "cell_type": "code",
   "execution_count": 10,
   "metadata": {},
   "outputs": [],
   "source": [
    "for col_name in df:\n",
    "    if col_name.startswith('Genre: '):\n",
    "        df[col_name].fillna(False, inplace=True)"
   ]
  },
  {
   "cell_type": "markdown",
   "metadata": {},
   "source": [
    "Next we change the release dates to all be in the same format, the pandas datetime format. The parameter `errors='coerce'` means that if pandas cannot figure out what the date format means, then it will set the value to pd.NaT. This is reasonable because there are many apps and not all will use a recognizable format, but we do not want those few exceptions to bring the process to a complete stop. The main reason the release date would not be in a format recognized by pandas would be if the date is given in a language other than English."
   ]
  },
  {
   "cell_type": "code",
   "execution_count": 11,
   "metadata": {},
   "outputs": [],
   "source": [
    "df['release_date date'] = df['release_date date'].apply(lambda x: pd.to_datetime(x, errors='coerce'))"
   ]
  },
  {
   "cell_type": "markdown",
   "metadata": {},
   "source": [
    "Now we define a function to determine positive review percentage for a row. Gives NaN if missing either the total review count or total count of positive reviews."
   ]
  },
  {
   "cell_type": "code",
   "execution_count": 12,
   "metadata": {},
   "outputs": [],
   "source": [
    "def positive_perc(row):\n",
    "    if not np.isnan(row['total_reviews']) and row['total_reviews'] != 0 and not np.isnan(row['total_positive']):\n",
    "        return row['total_positive'] / row['total_reviews']\n",
    "    else:\n",
    "        return np.NaN"
   ]
  },
  {
   "cell_type": "markdown",
   "metadata": {},
   "source": [
    "With the function defined, we can now add a positive review percentage column to the dataframe."
   ]
  },
  {
   "cell_type": "code",
   "execution_count": 13,
   "metadata": {},
   "outputs": [],
   "source": [
    "df['positive_percentage'] = df.apply(positive_perc, axis=1)"
   ]
  },
  {
   "cell_type": "markdown",
   "metadata": {},
   "source": [
    "We can see that for free games, the price column tends to be NaN. It is reasonable to say that if a game is free, then its price should be 0. We will now define a function to do this for us."
   ]
  },
  {
   "cell_type": "code",
   "execution_count": 14,
   "metadata": {},
   "outputs": [],
   "source": [
    "def get_price(row):\n",
    "    if np.isnan(row['price_overview initial']) and row['is_free']:\n",
    "        return 0\n",
    "    else:\n",
    "        return row['price_overview initial']"
   ]
  },
  {
   "cell_type": "markdown",
   "metadata": {},
   "source": [
    "We apply this function to the price_overview initial column, and rename the column to just price for the sake of brevity."
   ]
  },
  {
   "cell_type": "code",
   "execution_count": 15,
   "metadata": {},
   "outputs": [],
   "source": [
    "df['price_overview initial'] = df.apply(get_price, axis=1)\n",
    "df.rename({'price_overview initial': 'price'}, axis='columns', inplace=True)"
   ]
  },
  {
   "cell_type": "markdown",
   "metadata": {},
   "source": [
    "Seems reasonable to replace NaN achievements total with 0"
   ]
  },
  {
   "cell_type": "code",
   "execution_count": 16,
   "metadata": {},
   "outputs": [],
   "source": [
    "df['achievements total'].fillna(0, inplace=True)"
   ]
  },
  {
   "cell_type": "markdown",
   "metadata": {},
   "source": [
    "Now let's get an idea of what the tidied up dataframe looks like"
   ]
  },
  {
   "cell_type": "code",
   "execution_count": 17,
   "metadata": {},
   "outputs": [
    {
     "data": {
      "text/html": [
       "<div>\n",
       "<style scoped>\n",
       "    .dataframe tbody tr th:only-of-type {\n",
       "        vertical-align: middle;\n",
       "    }\n",
       "\n",
       "    .dataframe tbody tr th {\n",
       "        vertical-align: top;\n",
       "    }\n",
       "\n",
       "    .dataframe thead th {\n",
       "        text-align: right;\n",
       "    }\n",
       "</style>\n",
       "<table border=\"1\" class=\"dataframe\">\n",
       "  <thead>\n",
       "    <tr style=\"text-align: right;\">\n",
       "      <th></th>\n",
       "      <th>name</th>\n",
       "      <th>type</th>\n",
       "      <th>steam_appid</th>\n",
       "      <th>developers</th>\n",
       "      <th>publishers</th>\n",
       "      <th>is_free</th>\n",
       "      <th>price</th>\n",
       "      <th>achievements total</th>\n",
       "      <th>release_date date</th>\n",
       "      <th>metacritic score</th>\n",
       "      <th>...</th>\n",
       "      <th>Genre: Free to Play</th>\n",
       "      <th>Genre: RPG</th>\n",
       "      <th>Genre: Massively Multiplayer</th>\n",
       "      <th>Genre: Design &amp; Illustration</th>\n",
       "      <th>Genre: Web Publishing</th>\n",
       "      <th>Genre: Racing</th>\n",
       "      <th>Genre: Audio Production</th>\n",
       "      <th>Genre: Education</th>\n",
       "      <th>Genre: Utilities</th>\n",
       "      <th>positive_percentage</th>\n",
       "    </tr>\n",
       "  </thead>\n",
       "  <tbody>\n",
       "    <tr>\n",
       "      <th>0</th>\n",
       "      <td>Trine 4: Melody of Mystery Soundtrack</td>\n",
       "      <td>music</td>\n",
       "      <td>1503550</td>\n",
       "      <td>[Frozenbyte]</td>\n",
       "      <td>[]</td>\n",
       "      <td>False</td>\n",
       "      <td>699.0</td>\n",
       "      <td>0.0</td>\n",
       "      <td>2020-12-23</td>\n",
       "      <td>NaN</td>\n",
       "      <td>...</td>\n",
       "      <td>False</td>\n",
       "      <td>False</td>\n",
       "      <td>False</td>\n",
       "      <td>False</td>\n",
       "      <td>False</td>\n",
       "      <td>False</td>\n",
       "      <td>False</td>\n",
       "      <td>False</td>\n",
       "      <td>False</td>\n",
       "      <td>1.000000</td>\n",
       "    </tr>\n",
       "    <tr>\n",
       "      <th>1</th>\n",
       "      <td>Rift World Demo</td>\n",
       "      <td>demo</td>\n",
       "      <td>1503570</td>\n",
       "      <td>[Cerulean Interactive]</td>\n",
       "      <td>[Cerulean Interactive]</td>\n",
       "      <td>True</td>\n",
       "      <td>0.0</td>\n",
       "      <td>0.0</td>\n",
       "      <td>2021-04-13</td>\n",
       "      <td>NaN</td>\n",
       "      <td>...</td>\n",
       "      <td>False</td>\n",
       "      <td>False</td>\n",
       "      <td>False</td>\n",
       "      <td>False</td>\n",
       "      <td>False</td>\n",
       "      <td>False</td>\n",
       "      <td>False</td>\n",
       "      <td>False</td>\n",
       "      <td>False</td>\n",
       "      <td>NaN</td>\n",
       "    </tr>\n",
       "    <tr>\n",
       "      <th>2</th>\n",
       "      <td>Epic City Builder 4</td>\n",
       "      <td>game</td>\n",
       "      <td>1503580</td>\n",
       "      <td>[Andrew Rowe]</td>\n",
       "      <td>[Andrew Rowe]</td>\n",
       "      <td>False</td>\n",
       "      <td>1999.0</td>\n",
       "      <td>19.0</td>\n",
       "      <td>2021-10-14</td>\n",
       "      <td>NaN</td>\n",
       "      <td>...</td>\n",
       "      <td>False</td>\n",
       "      <td>False</td>\n",
       "      <td>False</td>\n",
       "      <td>False</td>\n",
       "      <td>False</td>\n",
       "      <td>False</td>\n",
       "      <td>False</td>\n",
       "      <td>False</td>\n",
       "      <td>False</td>\n",
       "      <td>0.833333</td>\n",
       "    </tr>\n",
       "    <tr>\n",
       "      <th>3</th>\n",
       "      <td>Range is HOT!</td>\n",
       "      <td>game</td>\n",
       "      <td>1503590</td>\n",
       "      <td>[Winter Bear Studio]</td>\n",
       "      <td>[Winter Bear Studio]</td>\n",
       "      <td>False</td>\n",
       "      <td>2999.0</td>\n",
       "      <td>0.0</td>\n",
       "      <td>2021-03-09</td>\n",
       "      <td>NaN</td>\n",
       "      <td>...</td>\n",
       "      <td>False</td>\n",
       "      <td>False</td>\n",
       "      <td>False</td>\n",
       "      <td>False</td>\n",
       "      <td>False</td>\n",
       "      <td>False</td>\n",
       "      <td>False</td>\n",
       "      <td>False</td>\n",
       "      <td>False</td>\n",
       "      <td>0.743590</td>\n",
       "    </tr>\n",
       "    <tr>\n",
       "      <th>4</th>\n",
       "      <td>Arm of Revenge Re-Edition</td>\n",
       "      <td>game</td>\n",
       "      <td>1503630</td>\n",
       "      <td>[MagicWing]</td>\n",
       "      <td>[MagicWing]</td>\n",
       "      <td>False</td>\n",
       "      <td>499.0</td>\n",
       "      <td>32.0</td>\n",
       "      <td>2021-01-14</td>\n",
       "      <td>NaN</td>\n",
       "      <td>...</td>\n",
       "      <td>False</td>\n",
       "      <td>False</td>\n",
       "      <td>False</td>\n",
       "      <td>False</td>\n",
       "      <td>False</td>\n",
       "      <td>False</td>\n",
       "      <td>False</td>\n",
       "      <td>False</td>\n",
       "      <td>False</td>\n",
       "      <td>0.772727</td>\n",
       "    </tr>\n",
       "  </tbody>\n",
       "</table>\n",
       "<p>5 rows × 30 columns</p>\n",
       "</div>"
      ],
      "text/plain": [
       "                                    name   type  steam_appid  \\\n",
       "0  Trine 4: Melody of Mystery Soundtrack  music      1503550   \n",
       "1                        Rift World Demo   demo      1503570   \n",
       "2                    Epic City Builder 4   game      1503580   \n",
       "3                          Range is HOT!   game      1503590   \n",
       "4              Arm of Revenge Re-Edition   game      1503630   \n",
       "\n",
       "               developers              publishers  is_free   price  \\\n",
       "0            [Frozenbyte]                      []    False   699.0   \n",
       "1  [Cerulean Interactive]  [Cerulean Interactive]     True     0.0   \n",
       "2           [Andrew Rowe]           [Andrew Rowe]    False  1999.0   \n",
       "3    [Winter Bear Studio]    [Winter Bear Studio]    False  2999.0   \n",
       "4             [MagicWing]             [MagicWing]    False   499.0   \n",
       "\n",
       "   achievements total release_date date  metacritic score  ...  \\\n",
       "0                 0.0        2020-12-23               NaN  ...   \n",
       "1                 0.0        2021-04-13               NaN  ...   \n",
       "2                19.0        2021-10-14               NaN  ...   \n",
       "3                 0.0        2021-03-09               NaN  ...   \n",
       "4                32.0        2021-01-14               NaN  ...   \n",
       "\n",
       "   Genre: Free to Play  Genre: RPG  Genre: Massively Multiplayer  \\\n",
       "0                False       False                         False   \n",
       "1                False       False                         False   \n",
       "2                False       False                         False   \n",
       "3                False       False                         False   \n",
       "4                False       False                         False   \n",
       "\n",
       "   Genre: Design & Illustration  Genre: Web Publishing  Genre: Racing  \\\n",
       "0                         False                  False          False   \n",
       "1                         False                  False          False   \n",
       "2                         False                  False          False   \n",
       "3                         False                  False          False   \n",
       "4                         False                  False          False   \n",
       "\n",
       "   Genre: Audio Production  Genre: Education  Genre: Utilities  \\\n",
       "0                    False             False             False   \n",
       "1                    False             False             False   \n",
       "2                    False             False             False   \n",
       "3                    False             False             False   \n",
       "4                    False             False             False   \n",
       "\n",
       "   positive_percentage  \n",
       "0             1.000000  \n",
       "1                  NaN  \n",
       "2             0.833333  \n",
       "3             0.743590  \n",
       "4             0.772727  \n",
       "\n",
       "[5 rows x 30 columns]"
      ]
     },
     "execution_count": 17,
     "metadata": {},
     "output_type": "execute_result"
    }
   ],
   "source": [
    "df.head()"
   ]
  }
 ],
 "metadata": {
  "kernelspec": {
   "display_name": "Python 3 (ipykernel)",
   "language": "python",
   "name": "python3"
  },
  "language_info": {
   "codemirror_mode": {
    "name": "ipython",
    "version": 3
   },
   "file_extension": ".py",
   "mimetype": "text/x-python",
   "name": "python",
   "nbconvert_exporter": "python",
   "pygments_lexer": "ipython3",
   "version": "3.7.0"
  }
 },
 "nbformat": 4,
 "nbformat_minor": 4
}
