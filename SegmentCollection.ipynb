{
 "cells": [
  {
   "cell_type": "code",
   "execution_count": null,
   "id": "54395d68-32c8-4b3b-82bf-d73f8b3f6265",
   "metadata": {},
   "outputs": [],
   "source": [
    "import requests\n",
    "import pandas as pd\n",
    "import numpy as np\n",
    "import pickle\n",
    "import time\n",
    "import random"
   ]
  },
  {
   "cell_type": "markdown",
   "id": "685c482f-e42e-4aa2-9c24-e0329247a680",
   "metadata": {},
   "source": [
    "Get key (not needed but might help to not get rate limited)"
   ]
  },
  {
   "cell_type": "code",
   "execution_count": null,
   "id": "8ec9ceaf-3979-48ce-bcfc-d4306373922b",
   "metadata": {},
   "outputs": [],
   "source": [
    "key = open('key.txt').read()"
   ]
  },
  {
   "cell_type": "markdown",
   "id": "351181f9-24d5-4535-81b2-79acf678248b",
   "metadata": {},
   "source": [
    "Load apps list from pickle file (stores ids as integers)"
   ]
  },
  {
   "cell_type": "code",
   "execution_count": null,
   "id": "36eff438-2e33-48c0-9125-83cdada648a9",
   "metadata": {},
   "outputs": [],
   "source": [
    "with open('all_apps.pkl', 'rb') as fp:\n",
    "    all_apps = pickle.load(fp)"
   ]
  },
  {
   "cell_type": "markdown",
   "id": "d9ff987b-b657-4111-ba80-947d940eb48a",
   "metadata": {},
   "source": [
    "Groups apps into smaller segments (20 seems like a good number)"
   ]
  },
  {
   "cell_type": "code",
   "execution_count": null,
   "id": "243a7255-69d0-44cd-b7ac-4e1d15074716",
   "metadata": {},
   "outputs": [],
   "source": [
    "app_chunks = np.array_split(all_apps, 20) # 20 is probably a reasonable number"
   ]
  },
  {
   "cell_type": "markdown",
   "id": "f3527438-38bc-4b07-81f5-8e47ff6e334f",
   "metadata": {},
   "source": [
    "Set the chunk range you want to collect here (each should be in range [0,19] ) (if you only want to do 1, set both to the same number)"
   ]
  },
  {
   "cell_type": "code",
   "execution_count": null,
   "id": "8741a550-eca3-43b4-9fbb-03a57a38219a",
   "metadata": {},
   "outputs": [],
   "source": [
    "START_NUM = 5\n",
    "END_NUM = 5"
   ]
  },
  {
   "cell_type": "markdown",
   "id": "68819c5f-3b69-4dae-af74-d74cf37edbdd",
   "metadata": {},
   "source": [
    "Collection stuff below"
   ]
  },
  {
   "cell_type": "code",
   "execution_count": null,
   "id": "a12d1af6-0421-4efe-8119-973601cfdf7d",
   "metadata": {},
   "outputs": [],
   "source": [
    "categories = [\n",
    "    ['name'],\n",
    "    ['type'],\n",
    "    ['steam_appid'],\n",
    "    ['developers'],\n",
    "    ['publishers'],\n",
    "    ['is_free'],\n",
    "    ['price_overview', 'initial'],\n",
    "    ['achievements', 'total'],\n",
    "    ['release_date', 'date'],\n",
    "    ['metacritic', 'score']\n",
    "]\n",
    "\n",
    "filters = ''\n",
    "for cat in categories:\n",
    "    filters += cat[0] + ','\n",
    "filters += 'basic,genres,categories'"
   ]
  },
  {
   "cell_type": "code",
   "execution_count": null,
   "id": "607740c5-3b49-4e88-98d9-235832d1aaee",
   "metadata": {},
   "outputs": [],
   "source": [
    "def fetch(game_info, categories):\n",
    "    info = {}\n",
    "    for category in categories:\n",
    "        cur_info = game_info\n",
    "        failed = False\n",
    "        \n",
    "        for subpart in category:\n",
    "            if not failed and subpart in cur_info.keys():\n",
    "                cur_info = cur_info[subpart]\n",
    "            else:\n",
    "                failed = True\n",
    "        \n",
    "        if not failed:\n",
    "            info[' '.join(category)] = cur_info\n",
    "        else:\n",
    "            info[' '.join(category)] = np.NaN\n",
    "    \n",
    "    if 'genres' in game_info.keys():\n",
    "        for genre in game_info['genres']:\n",
    "            info['Genre: ' + genre['description']] = True\n",
    "    if 'categories' in game_info.keys():\n",
    "        for genre in game_info['categories']:\n",
    "            info['Category: ' + genre['description']] = True\n",
    "    \n",
    "    \n",
    "    return info"
   ]
  },
  {
   "cell_type": "markdown",
   "id": "c0a2f69f-6b48-41c4-bedf-4e72b3b6b771",
   "metadata": {},
   "source": [
    "API query helper function (inspried by https://medium.com/clover-platform-blog/conquering-api-rate-limiting-dcac5552714d)"
   ]
  },
  {
   "cell_type": "code",
   "execution_count": null,
   "id": "ca2d72e7-4a1a-46f3-a53c-5a05898d125c",
   "metadata": {},
   "outputs": [],
   "source": [
    "def store_query(app_id):\n",
    "    global filters, key\n",
    "    \n",
    "    max_attempts = 11\n",
    "    attempts = 0\n",
    "    \n",
    "    URL = f\"http://store.steampowered.com/api/appdetails/?appids={app_id}\"\n",
    "    PARAMS = {'filters': filters, 'l': 'en', 'key': key} # probably don't actually need the key but maybe it will help\n",
    "    \n",
    "    while attempts < max_attempts:\n",
    "        re = requests.get(url=URL, params=PARAMS)\n",
    "\n",
    "        if re.status_code != 429:\n",
    "            break\n",
    "            \n",
    "        #print(f\"waiting on store query for {app_id} ... (attempt {attempts}/{max_attempts})\")\n",
    "        #time.sleep((2 ** attempts) + random.random())\n",
    "        time.sleep(30 + random.random())\n",
    "        attempts = attempts + 1\n",
    "        \n",
    "    if attempts >= max_attempts:\n",
    "        print(f\"ERROR: Store query timeout on {app_id}. Copy this entire message into failedIDs.txt\")\n",
    "        return None\n",
    "    else:\n",
    "        return re\n",
    "    \n",
    "def review_query(app_id):\n",
    "    max_attempts = 11\n",
    "    attempts = 0\n",
    "    \n",
    "    URL = f\"http://store.steampowered.com/appreviews/{app_id}?json=1\"\n",
    "    PARAMS = {'num_per_page': 0, 'language': 'all', 'purchase_type': 'all'}\n",
    "    \n",
    "    while attempts < max_attempts:\n",
    "        re = requests.get(url=URL, params=PARAMS)\n",
    "\n",
    "        if re.status_code != 429:\n",
    "            break\n",
    "            \n",
    "        #print(f\"waiting on review query for {app_id} ... (attempt {attempts}/{max_attempts})\")\n",
    "        #time.sleep((2 ** attempts) + random.random())\n",
    "        time.sleep(30 + random.random())\n",
    "        attempts = attempts + 1\n",
    "        \n",
    "    if attempts >= max_attempts:\n",
    "        print(f\"ERROR: Review query timeout on {app_id}. Copy this entire message into failedIDs.txt\")\n",
    "        return None\n",
    "    else:\n",
    "        return re"
   ]
  },
  {
   "cell_type": "markdown",
   "id": "d00241d6-8fa3-4256-b1be-a53a92ed7e63",
   "metadata": {},
   "source": [
    "Getting all info for chunk"
   ]
  },
  {
   "cell_type": "code",
   "execution_count": null,
   "id": "892fe26f-4310-4782-a4b7-83b184ec45cf",
   "metadata": {},
   "outputs": [],
   "source": [
    "for CHUNK_NUM in range(START_NUM, END_NUM+1):\n",
    "    print(f\"Starting df{CHUNK_NUM}\")\n",
    "    all_info = []\n",
    "\n",
    "    my_chunk = app_chunks[CHUNK_NUM]\n",
    "\n",
    "    all_info = []\n",
    "\n",
    "    progress_num = 100\n",
    "    num_done = 0\n",
    "\n",
    "    for app_id in my_chunk:\n",
    "        if num_done % progress_num == 0:\n",
    "            print(f\"Finished\\t{num_done} / {len(my_chunk)}\")\n",
    "\n",
    "        # make main api query\n",
    "        re = store_query(app_id)\n",
    "\n",
    "        try:\n",
    "            if re is not None and re.json()[str(app_id)]['success']:\n",
    "                game_info = re.json()[str(app_id)]['data']\n",
    "                info = fetch(game_info, categories)\n",
    "                # make review api query\n",
    "                re = review_query(app_id)\n",
    "                if re is not None:\n",
    "                    summary = re.json()\n",
    "                    if 'query_summary' in summary.keys():\n",
    "                        q_summary = summary['query_summary']\n",
    "\n",
    "                        if 'total_positive' in q_summary:\n",
    "                            info['total_positive'] = q_summary['total_positive']\n",
    "                        else:\n",
    "                            info['total_positive'] = np.NaN\n",
    "\n",
    "                        if 'total_reviews' in q_summary:\n",
    "                            info['total_reviews'] = q_summary['total_reviews']\n",
    "                        else:\n",
    "                            info['total_reviews'] = np.NaN\n",
    "\n",
    "\n",
    "                all_info.append(info)\n",
    "        except:\n",
    "            print(f\"ERROR: Epic fail on {app_id}. Copy this entire message into failedIDs.txt\")\n",
    "\n",
    "\n",
    "        num_done += 1\n",
    "\n",
    "    df = pd.DataFrame.from_dict(all_info)\n",
    "    df.to_pickle(f\"df{CHUNK_NUM}.pkl\")\n",
    "    print(f\"Finished df{CHUNK_NUM}!\")"
   ]
  },
  {
   "cell_type": "markdown",
   "id": "b850afaa-ec6b-41fd-b400-521f41e3100d",
   "metadata": {},
   "source": [
    "Once all chunks are created, the complete dataframe can be created with `df = pd.concat([df0, df1, df2, ... , df19], ignore_index=True, sort=False)`"
   ]
  }
 ],
 "metadata": {
  "kernelspec": {
   "display_name": "Python 3 (ipykernel)",
   "language": "python",
   "name": "python3"
  },
  "language_info": {
   "codemirror_mode": {
    "name": "ipython",
    "version": 3
   },
   "file_extension": ".py",
   "mimetype": "text/x-python",
   "name": "python",
   "nbconvert_exporter": "python",
   "pygments_lexer": "ipython3",
   "version": "3.7.0"
  }
 },
 "nbformat": 4,
 "nbformat_minor": 5
}
