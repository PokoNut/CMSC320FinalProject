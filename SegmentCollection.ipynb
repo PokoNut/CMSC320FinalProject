{
 "cells": [
  {
   "cell_type": "code",
   "execution_count": null,
   "id": "d1789aa5-ddb0-4405-8f87-d2b1922bbe0d",
   "metadata": {},
   "outputs": [],
   "source": [
    "import requests\n",
    "import grequests\n",
    "import pandas as pd\n",
    "import numpy as np\n",
    "import pickle\n",
    "import time"
   ]
  },
  {
   "cell_type": "markdown",
   "id": "685c482f-e42e-4aa2-9c24-e0329247a680",
   "metadata": {},
   "source": [
    "Get key (not needed but might help to not get rate limited)"
   ]
  },
  {
   "cell_type": "code",
   "execution_count": null,
   "id": "8ec9ceaf-3979-48ce-bcfc-d4306373922b",
   "metadata": {},
   "outputs": [],
   "source": [
    "key = open('key.txt').read()"
   ]
  },
  {
   "cell_type": "markdown",
   "id": "351181f9-24d5-4535-81b2-79acf678248b",
   "metadata": {},
   "source": [
    "Load apps list from pickle file (stores ids as integers)"
   ]
  },
  {
   "cell_type": "code",
   "execution_count": null,
   "id": "36eff438-2e33-48c0-9125-83cdada648a9",
   "metadata": {},
   "outputs": [],
   "source": [
    "with open('all_apps.pkl', 'rb') as fp:\n",
    "    all_apps = pickle.load(fp)"
   ]
  },
  {
   "cell_type": "markdown",
   "id": "d9ff987b-b657-4111-ba80-947d940eb48a",
   "metadata": {},
   "source": [
    "Groups apps into smaller segments"
   ]
  },
  {
   "cell_type": "code",
   "execution_count": null,
   "id": "243a7255-69d0-44cd-b7ac-4e1d15074716",
   "metadata": {},
   "outputs": [],
   "source": [
    "app_chunks = np.array_split(all_apps, 20)"
   ]
  },
  {
   "cell_type": "markdown",
   "id": "f3527438-38bc-4b07-81f5-8e47ff6e334f",
   "metadata": {},
   "source": [
    "Set the chunk number you want to collect here (should be in range [0,19] )"
   ]
  },
  {
   "cell_type": "code",
   "execution_count": null,
   "id": "8741a550-eca3-43b4-9fbb-03a57a38219a",
   "metadata": {},
   "outputs": [],
   "source": [
    "CHUNK_NUM = 5"
   ]
  },
  {
   "cell_type": "markdown",
   "id": "68819c5f-3b69-4dae-af74-d74cf37edbdd",
   "metadata": {},
   "source": [
    "Collection stuff below"
   ]
  },
  {
   "cell_type": "code",
   "execution_count": null,
   "id": "a12d1af6-0421-4efe-8119-973601cfdf7d",
   "metadata": {},
   "outputs": [],
   "source": [
    "categories = [\n",
    "    ['name'],\n",
    "    ['type'],\n",
    "    ['steam_appid'],\n",
    "    ['developers'],\n",
    "    ['publishers'],\n",
    "    ['is_free'],\n",
    "    ['price_overview', 'initial'],\n",
    "    ['achievements', 'total'],\n",
    "    ['release_date', 'date'],\n",
    "    ['metacritic', 'score']\n",
    "]\n",
    "\n",
    "filters = ''\n",
    "for cat in categories:\n",
    "    filters += cat[0] + ','\n",
    "filters += 'basic,genres,categories'"
   ]
  },
  {
   "cell_type": "code",
   "execution_count": null,
   "id": "607740c5-3b49-4e88-98d9-235832d1aaee",
   "metadata": {},
   "outputs": [],
   "source": [
    "def fetch(game_info, categories):\n",
    "    info = {}\n",
    "    for category in categories:\n",
    "        cur_info = game_info\n",
    "        failed = False\n",
    "        \n",
    "        for subpart in category:\n",
    "            if not failed and subpart in cur_info.keys():\n",
    "                cur_info = cur_info[subpart]\n",
    "            else:\n",
    "                failed = True\n",
    "        \n",
    "        if not failed:\n",
    "            info[' '.join(category)] = cur_info\n",
    "        else:\n",
    "            info[' '.join(category)] = np.NaN\n",
    "    \n",
    "    if 'genres' in game_info.keys():\n",
    "        for genre in game_info['genres']:\n",
    "            info['Genre: ' + genre['description']] = True\n",
    "    if 'categories' in game_info.keys():\n",
    "        for genre in game_info['categories']:\n",
    "            info['Category: ' + genre['description']] = True\n",
    "    \n",
    "    \n",
    "    return info"
   ]
  },
  {
   "cell_type": "code",
   "execution_count": null,
   "id": "892fe26f-4310-4782-a4b7-83b184ec45cf",
   "metadata": {},
   "outputs": [],
   "source": [
    "all_info = []\n",
    "\n",
    "my_chunk = app_chunks[CHUNK_NUM]\n",
    "batches = np.array_split(my_chunk, 70)\n",
    "\n",
    "batch_num = 1\n",
    "for batch in batches:\n",
    "    start = time.time()\n",
    "    print(f\"batch {batch_num}/70 start\")\n",
    "    \n",
    "    batch_info = []\n",
    "    \n",
    "    app_ids = [str(app_id) for app_id in batch]\n",
    "    detail_urls = [f\"http://store.steampowered.com/api/appdetails/?appids={app_id}\" for app_id in app_ids]\n",
    "    detail_params = {'filters': filters, 'key': key}\n",
    "\n",
    "    rs = (grequests.get(url = u, params = detail_params) for u in detail_urls)\n",
    "    results = grequests.map(rs)\n",
    "\n",
    "    i = 0\n",
    "    review_urls = []\n",
    "    review_params = {'num_per_page': 0, 'language': 'all', 'purchase_type': 'all'}\n",
    "    while i < len(results):\n",
    "        app_id = app_ids[i]\n",
    "        r = results[i]\n",
    "        try:\n",
    "            if r.json()[app_id]['success']:\n",
    "                game_info = r.json()[app_id]['data']\n",
    "                info = fetch(game_info, categories)\n",
    "                batch_info.append(info)\n",
    "                review_urls.append(f\"http://store.steampowered.com/appreviews/{app_id}?json=1\")\n",
    "        except:\n",
    "            print(f\"Detail request for app_id {app_id} failed. Copy this entire message to failedIDs.txt\")\n",
    "        i += 1\n",
    "\n",
    "    rs = (grequests.get(url = u, params = review_params) for u in review_urls)\n",
    "    results = grequests.map(rs)\n",
    "    i = 0\n",
    "    while i < len(results):\n",
    "        r = results[i]\n",
    "        try:\n",
    "            summary = r.json()\n",
    "            if 'query_summary' in summary.keys():\n",
    "                q_summary = summary['query_summary']\n",
    "\n",
    "                if 'total_positive' in q_summary:\n",
    "                    batch_info[i]['total_positive'] = q_summary['total_positive']\n",
    "                else:\n",
    "                    batch_info[i]['total_positive'] = np.NaN\n",
    "\n",
    "                if 'total_reviews' in q_summary:\n",
    "                    batch_info[i]['total_reviews'] = q_summary['total_reviews']\n",
    "                else:\n",
    "                    batch_info[i]['total_reviews'] = np.NaN\n",
    "        except:\n",
    "            print(f\"Summary request for app_id {batch_info[i]['steam_appid']} failed. Copy this entire message to failedIDs.txt\")\n",
    "\n",
    "        i += 1\n",
    "        \n",
    "    all_info += batch_info\n",
    "    end = time.time()\n",
    "    print(f\"batch {batch_num}/70 done. Took {end - start} seconds\")\n",
    "    batch_num += 1"
   ]
  },
  {
   "cell_type": "code",
   "execution_count": null,
   "id": "8ea6c07d-b835-47c3-9ef0-6c8fe42bf8af",
   "metadata": {},
   "outputs": [],
   "source": [
    "df = pd.DataFrame.from_dict(all_info)\n",
    "print(f\"Length: {len(df)}\") # should be around 7000\n",
    "df.head()"
   ]
  },
  {
   "cell_type": "code",
   "execution_count": null,
   "id": "7850c371-ab76-4490-a023-b78ebf867c45",
   "metadata": {},
   "outputs": [],
   "source": [
    "df.to_pickle(f\"df{CHUNK_NUM}.pkl\")"
   ]
  },
  {
   "cell_type": "markdown",
   "id": "b850afaa-ec6b-41fd-b400-521f41e3100d",
   "metadata": {},
   "source": [
    "Once all 20 chunks are created, the complete dataframe can be created with `df = pd.concat([df0, df1, df2, ... , df19], ignore_index=True, sort=False)`"
   ]
  }
 ],
 "metadata": {
  "kernelspec": {
   "display_name": "Python 3 (ipykernel)",
   "language": "python",
   "name": "python3"
  },
  "language_info": {
   "codemirror_mode": {
    "name": "ipython",
    "version": 3
   },
   "file_extension": ".py",
   "mimetype": "text/x-python",
   "name": "python",
   "nbconvert_exporter": "python",
   "pygments_lexer": "ipython3",
   "version": "3.7.0"
  }
 },
 "nbformat": 4,
 "nbformat_minor": 5
}
